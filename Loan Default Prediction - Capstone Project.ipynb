{
 "cells": [
  {
   "cell_type": "code",
   "execution_count": 1,
   "id": "bef787ed",
   "metadata": {},
   "outputs": [],
   "source": [
    "#import libraries\n",
    "import pandas as pd\n",
    "import numpy as  np\n",
    "import seaborn as sns\n",
    "from matplotlib import pyplot as plt\n",
    "import warnings\n",
    "warnings.filterwarnings('ignore')"
   ]
  },
  {
   "cell_type": "code",
   "execution_count": 2,
   "id": "f83281ae",
   "metadata": {},
   "outputs": [],
   "source": [
    "#Read Test and Train Datasets\n",
    "df1=pd.read_csv(\"traindemographics.csv\")\n",
    "df2=pd.read_csv(\"trainperf.csv\")\n",
    "df3=pd.read_csv(\"trainprevloans.csv\")\n",
    "df4=pd.read_csv(\"testdemographics.csv\")\n",
    "df5=pd.read_csv(\"testperf.csv\")\n",
    "df6=pd.read_csv(\"testprevloans.csv\")\n",
    "pd.set_option(\"max_columns\",None)"
   ]
  },
  {
   "cell_type": "code",
   "execution_count": 3,
   "id": "79a6973b",
   "metadata": {},
   "outputs": [],
   "source": [
    "#Applying inner join on Train datasets \n",
    "Train1=pd.merge(df1,df3,how='inner',on='customerid')\n",
    "Train=pd.merge(Train1,df2,how='inner',on='customerid')"
   ]
  },
  {
   "cell_type": "code",
   "execution_count": 4,
   "id": "257cf307",
   "metadata": {},
   "outputs": [],
   "source": [
    "#Applying inner join on Test datasets \n",
    "Test2=pd.merge(df4,df6,how='inner',on='customerid')\n",
    "Test=pd.merge(Test2,df5,how='inner',on='customerid')"
   ]
  },
  {
   "cell_type": "code",
   "execution_count": 5,
   "id": "79c9ffd4",
   "metadata": {},
   "outputs": [
    {
     "data": {
      "text/html": [
       "<div>\n",
       "<style scoped>\n",
       "    .dataframe tbody tr th:only-of-type {\n",
       "        vertical-align: middle;\n",
       "    }\n",
       "\n",
       "    .dataframe tbody tr th {\n",
       "        vertical-align: top;\n",
       "    }\n",
       "\n",
       "    .dataframe thead th {\n",
       "        text-align: right;\n",
       "    }\n",
       "</style>\n",
       "<table border=\"1\" class=\"dataframe\">\n",
       "  <thead>\n",
       "    <tr style=\"text-align: right;\">\n",
       "      <th></th>\n",
       "      <th>customerid</th>\n",
       "      <th>birthdate</th>\n",
       "      <th>bank_account_type</th>\n",
       "      <th>longitude_gps</th>\n",
       "      <th>latitude_gps</th>\n",
       "      <th>bank_name_clients</th>\n",
       "      <th>bank_branch_clients</th>\n",
       "      <th>employment_status_clients</th>\n",
       "      <th>level_of_education_clients</th>\n",
       "      <th>systemloanid_x</th>\n",
       "      <th>loannumber_x</th>\n",
       "      <th>approveddate_x</th>\n",
       "      <th>creationdate_x</th>\n",
       "      <th>loanamount_x</th>\n",
       "      <th>totaldue_x</th>\n",
       "      <th>termdays_x</th>\n",
       "      <th>closeddate</th>\n",
       "      <th>referredby_x</th>\n",
       "      <th>firstduedate</th>\n",
       "      <th>firstrepaiddate</th>\n",
       "      <th>systemloanid_y</th>\n",
       "      <th>loannumber_y</th>\n",
       "      <th>approveddate_y</th>\n",
       "      <th>creationdate_y</th>\n",
       "      <th>loanamount_y</th>\n",
       "      <th>totaldue_y</th>\n",
       "      <th>termdays_y</th>\n",
       "      <th>referredby_y</th>\n",
       "      <th>good_bad_flag</th>\n",
       "    </tr>\n",
       "  </thead>\n",
       "  <tbody>\n",
       "    <tr>\n",
       "      <th>0</th>\n",
       "      <td>8a858e135cb22031015cbafc76964ebd</td>\n",
       "      <td>1973-10-10 00:00:00.000000</td>\n",
       "      <td>Savings</td>\n",
       "      <td>3.319219</td>\n",
       "      <td>6.528604</td>\n",
       "      <td>GT Bank</td>\n",
       "      <td>NaN</td>\n",
       "      <td>NaN</td>\n",
       "      <td>NaN</td>\n",
       "      <td>301943951</td>\n",
       "      <td>1</td>\n",
       "      <td>2017-06-19 17:55:26.000000</td>\n",
       "      <td>2017-06-19 16:54:19.000000</td>\n",
       "      <td>10000.0</td>\n",
       "      <td>11500.0</td>\n",
       "      <td>15</td>\n",
       "      <td>2017-07-04 18:09:47.000000</td>\n",
       "      <td>8a858899538ddb8e0153a780c56e34bb</td>\n",
       "      <td>2017-07-05 00:00:00.000000</td>\n",
       "      <td>2017-07-04 17:59:36.000000</td>\n",
       "      <td>301964962</td>\n",
       "      <td>2</td>\n",
       "      <td>2017-07-05 14:29:48.000000</td>\n",
       "      <td>2017-07-05 13:29:42.000000</td>\n",
       "      <td>10000.0</td>\n",
       "      <td>13000.0</td>\n",
       "      <td>30</td>\n",
       "      <td>8a858899538ddb8e0153a780c56e34bb</td>\n",
       "      <td>Good</td>\n",
       "    </tr>\n",
       "    <tr>\n",
       "      <th>1</th>\n",
       "      <td>8a858e275c7ea5ec015c82482d7c3996</td>\n",
       "      <td>1986-01-21 00:00:00.000000</td>\n",
       "      <td>Savings</td>\n",
       "      <td>3.325598</td>\n",
       "      <td>7.119403</td>\n",
       "      <td>Sterling Bank</td>\n",
       "      <td>NaN</td>\n",
       "      <td>Permanent</td>\n",
       "      <td>NaN</td>\n",
       "      <td>301929966</td>\n",
       "      <td>1</td>\n",
       "      <td>2017-06-07 12:47:30.000000</td>\n",
       "      <td>2017-06-07 11:46:22.000000</td>\n",
       "      <td>10000.0</td>\n",
       "      <td>13000.0</td>\n",
       "      <td>30</td>\n",
       "      <td>2017-07-10 08:52:54.000000</td>\n",
       "      <td>NaN</td>\n",
       "      <td>2017-07-07 00:00:00.000000</td>\n",
       "      <td>2017-07-10 08:42:44.000000</td>\n",
       "      <td>301972172</td>\n",
       "      <td>2</td>\n",
       "      <td>2017-07-10 21:21:46.000000</td>\n",
       "      <td>2017-07-10 20:21:40.000000</td>\n",
       "      <td>10000.0</td>\n",
       "      <td>13000.0</td>\n",
       "      <td>30</td>\n",
       "      <td>NaN</td>\n",
       "      <td>Bad</td>\n",
       "    </tr>\n",
       "    <tr>\n",
       "      <th>2</th>\n",
       "      <td>8a858e5b5bd99460015bdc95cd485634</td>\n",
       "      <td>1987-04-01 00:00:00.000000</td>\n",
       "      <td>Savings</td>\n",
       "      <td>5.746100</td>\n",
       "      <td>5.563174</td>\n",
       "      <td>Fidelity Bank</td>\n",
       "      <td>NaN</td>\n",
       "      <td>NaN</td>\n",
       "      <td>NaN</td>\n",
       "      <td>301931228</td>\n",
       "      <td>3</td>\n",
       "      <td>2017-06-08 11:49:34.000000</td>\n",
       "      <td>2017-06-08 10:49:27.000000</td>\n",
       "      <td>10000.0</td>\n",
       "      <td>13000.0</td>\n",
       "      <td>30</td>\n",
       "      <td>2017-07-11 10:12:20.000000</td>\n",
       "      <td>NaN</td>\n",
       "      <td>2017-07-10 00:00:00.000000</td>\n",
       "      <td>2017-07-11 10:02:11.000000</td>\n",
       "      <td>301976271</td>\n",
       "      <td>4</td>\n",
       "      <td>2017-07-13 15:40:27.000000</td>\n",
       "      <td>2017-07-13 14:40:19.000000</td>\n",
       "      <td>10000.0</td>\n",
       "      <td>13000.0</td>\n",
       "      <td>30</td>\n",
       "      <td>NaN</td>\n",
       "      <td>Good</td>\n",
       "    </tr>\n",
       "  </tbody>\n",
       "</table>\n",
       "</div>"
      ],
      "text/plain": [
       "                         customerid                   birthdate  \\\n",
       "0  8a858e135cb22031015cbafc76964ebd  1973-10-10 00:00:00.000000   \n",
       "1  8a858e275c7ea5ec015c82482d7c3996  1986-01-21 00:00:00.000000   \n",
       "2  8a858e5b5bd99460015bdc95cd485634  1987-04-01 00:00:00.000000   \n",
       "\n",
       "  bank_account_type  longitude_gps  latitude_gps bank_name_clients  \\\n",
       "0           Savings       3.319219      6.528604           GT Bank   \n",
       "1           Savings       3.325598      7.119403     Sterling Bank   \n",
       "2           Savings       5.746100      5.563174     Fidelity Bank   \n",
       "\n",
       "  bank_branch_clients employment_status_clients level_of_education_clients  \\\n",
       "0                 NaN                       NaN                        NaN   \n",
       "1                 NaN                 Permanent                        NaN   \n",
       "2                 NaN                       NaN                        NaN   \n",
       "\n",
       "   systemloanid_x  loannumber_x              approveddate_x  \\\n",
       "0       301943951             1  2017-06-19 17:55:26.000000   \n",
       "1       301929966             1  2017-06-07 12:47:30.000000   \n",
       "2       301931228             3  2017-06-08 11:49:34.000000   \n",
       "\n",
       "               creationdate_x  loanamount_x  totaldue_x  termdays_x  \\\n",
       "0  2017-06-19 16:54:19.000000       10000.0     11500.0          15   \n",
       "1  2017-06-07 11:46:22.000000       10000.0     13000.0          30   \n",
       "2  2017-06-08 10:49:27.000000       10000.0     13000.0          30   \n",
       "\n",
       "                   closeddate                      referredby_x  \\\n",
       "0  2017-07-04 18:09:47.000000  8a858899538ddb8e0153a780c56e34bb   \n",
       "1  2017-07-10 08:52:54.000000                               NaN   \n",
       "2  2017-07-11 10:12:20.000000                               NaN   \n",
       "\n",
       "                 firstduedate             firstrepaiddate  systemloanid_y  \\\n",
       "0  2017-07-05 00:00:00.000000  2017-07-04 17:59:36.000000       301964962   \n",
       "1  2017-07-07 00:00:00.000000  2017-07-10 08:42:44.000000       301972172   \n",
       "2  2017-07-10 00:00:00.000000  2017-07-11 10:02:11.000000       301976271   \n",
       "\n",
       "   loannumber_y              approveddate_y              creationdate_y  \\\n",
       "0             2  2017-07-05 14:29:48.000000  2017-07-05 13:29:42.000000   \n",
       "1             2  2017-07-10 21:21:46.000000  2017-07-10 20:21:40.000000   \n",
       "2             4  2017-07-13 15:40:27.000000  2017-07-13 14:40:19.000000   \n",
       "\n",
       "   loanamount_y  totaldue_y  termdays_y                      referredby_y  \\\n",
       "0       10000.0     13000.0          30  8a858899538ddb8e0153a780c56e34bb   \n",
       "1       10000.0     13000.0          30                               NaN   \n",
       "2       10000.0     13000.0          30                               NaN   \n",
       "\n",
       "  good_bad_flag  \n",
       "0          Good  \n",
       "1           Bad  \n",
       "2          Good  "
      ]
     },
     "execution_count": 5,
     "metadata": {},
     "output_type": "execute_result"
    }
   ],
   "source": [
    "#Displaying Train dataset\n",
    "Train.head(3)"
   ]
  },
  {
   "cell_type": "code",
   "execution_count": 6,
   "id": "06ce5985",
   "metadata": {},
   "outputs": [
    {
     "data": {
      "text/html": [
       "<div>\n",
       "<style scoped>\n",
       "    .dataframe tbody tr th:only-of-type {\n",
       "        vertical-align: middle;\n",
       "    }\n",
       "\n",
       "    .dataframe tbody tr th {\n",
       "        vertical-align: top;\n",
       "    }\n",
       "\n",
       "    .dataframe thead th {\n",
       "        text-align: right;\n",
       "    }\n",
       "</style>\n",
       "<table border=\"1\" class=\"dataframe\">\n",
       "  <thead>\n",
       "    <tr style=\"text-align: right;\">\n",
       "      <th></th>\n",
       "      <th>customerid</th>\n",
       "      <th>birthdate</th>\n",
       "      <th>bank_account_type</th>\n",
       "      <th>longitude_gps</th>\n",
       "      <th>latitude_gps</th>\n",
       "      <th>bank_name_clients</th>\n",
       "      <th>bank_branch_clients</th>\n",
       "      <th>employment_status_clients</th>\n",
       "      <th>level_of_education_clients</th>\n",
       "      <th>systemloanid_x</th>\n",
       "      <th>loannumber_x</th>\n",
       "      <th>approveddate_x</th>\n",
       "      <th>creationdate_x</th>\n",
       "      <th>loanamount_x</th>\n",
       "      <th>totaldue_x</th>\n",
       "      <th>termdays_x</th>\n",
       "      <th>closeddate</th>\n",
       "      <th>referredby_x</th>\n",
       "      <th>firstduedate</th>\n",
       "      <th>firstrepaiddate</th>\n",
       "      <th>systemloanid_y</th>\n",
       "      <th>loannumber_y</th>\n",
       "      <th>approveddate_y</th>\n",
       "      <th>creationdate_y</th>\n",
       "      <th>loanamount_y</th>\n",
       "      <th>totaldue_y</th>\n",
       "      <th>termdays_y</th>\n",
       "      <th>referredby_y</th>\n",
       "    </tr>\n",
       "  </thead>\n",
       "  <tbody>\n",
       "    <tr>\n",
       "      <th>0</th>\n",
       "      <td>8a858f305c8dd672015c93b1db645db4</td>\n",
       "      <td>1976-08-28 00:00:00.000000</td>\n",
       "      <td>Savings</td>\n",
       "      <td>5.296628</td>\n",
       "      <td>7.593965</td>\n",
       "      <td>Heritage Bank</td>\n",
       "      <td>NaN</td>\n",
       "      <td>Permanent</td>\n",
       "      <td>NaN</td>\n",
       "      <td>301934783</td>\n",
       "      <td>1</td>\n",
       "      <td>2017-06-11 13:15:09.000000</td>\n",
       "      <td>2017-06-11 12:14:02.000000</td>\n",
       "      <td>10000.0</td>\n",
       "      <td>13000.0</td>\n",
       "      <td>30</td>\n",
       "      <td>2017-07-12 17:23:46.000000</td>\n",
       "      <td>NaN</td>\n",
       "      <td>2017-07-13 00:00:00.000000</td>\n",
       "      <td>2017-07-12 17:13:36.000000</td>\n",
       "      <td>301992953</td>\n",
       "      <td>2</td>\n",
       "      <td>36:45.0</td>\n",
       "      <td>36:38.0</td>\n",
       "      <td>10000</td>\n",
       "      <td>11500.0</td>\n",
       "      <td>15</td>\n",
       "      <td>NaN</td>\n",
       "    </tr>\n",
       "    <tr>\n",
       "      <th>1</th>\n",
       "      <td>8a858fde56eb02280156eb6dafc128ac</td>\n",
       "      <td>1982-03-29 00:00:00.000000</td>\n",
       "      <td>Savings</td>\n",
       "      <td>6.354624</td>\n",
       "      <td>4.949031</td>\n",
       "      <td>First Bank</td>\n",
       "      <td>NaN</td>\n",
       "      <td>Self-Employed</td>\n",
       "      <td>NaN</td>\n",
       "      <td>301835093</td>\n",
       "      <td>10</td>\n",
       "      <td>2017-03-09 22:21:00.000000</td>\n",
       "      <td>2017-03-09 21:20:53.000000</td>\n",
       "      <td>40000.0</td>\n",
       "      <td>44800.0</td>\n",
       "      <td>30</td>\n",
       "      <td>2017-04-10 07:48:10.000000</td>\n",
       "      <td>NaN</td>\n",
       "      <td>2017-04-10 00:00:00.000000</td>\n",
       "      <td>2017-04-10 07:33:01.000000</td>\n",
       "      <td>301997095</td>\n",
       "      <td>14</td>\n",
       "      <td>31:11.0</td>\n",
       "      <td>30:01.0</td>\n",
       "      <td>40000</td>\n",
       "      <td>44000.0</td>\n",
       "      <td>30</td>\n",
       "      <td>NaN</td>\n",
       "    </tr>\n",
       "    <tr>\n",
       "      <th>2</th>\n",
       "      <td>8a858fde56eb02280156eb6dafc128ac</td>\n",
       "      <td>1982-03-29 00:00:00.000000</td>\n",
       "      <td>Savings</td>\n",
       "      <td>6.354624</td>\n",
       "      <td>4.949031</td>\n",
       "      <td>First Bank</td>\n",
       "      <td>NaN</td>\n",
       "      <td>Self-Employed</td>\n",
       "      <td>NaN</td>\n",
       "      <td>301910151</td>\n",
       "      <td>12</td>\n",
       "      <td>2017-05-16 18:17:15.000000</td>\n",
       "      <td>2017-05-16 17:17:08.000000</td>\n",
       "      <td>40000.0</td>\n",
       "      <td>44000.0</td>\n",
       "      <td>30</td>\n",
       "      <td>2017-06-15 16:08:33.000000</td>\n",
       "      <td>NaN</td>\n",
       "      <td>2017-06-15 00:00:00.000000</td>\n",
       "      <td>2017-06-15 15:58:24.000000</td>\n",
       "      <td>301997095</td>\n",
       "      <td>14</td>\n",
       "      <td>31:11.0</td>\n",
       "      <td>30:01.0</td>\n",
       "      <td>40000</td>\n",
       "      <td>44000.0</td>\n",
       "      <td>30</td>\n",
       "      <td>NaN</td>\n",
       "    </tr>\n",
       "    <tr>\n",
       "      <th>3</th>\n",
       "      <td>8a858fde56eb02280156eb6dafc128ac</td>\n",
       "      <td>1982-03-29 00:00:00.000000</td>\n",
       "      <td>Savings</td>\n",
       "      <td>6.354624</td>\n",
       "      <td>4.949031</td>\n",
       "      <td>First Bank</td>\n",
       "      <td>NaN</td>\n",
       "      <td>Self-Employed</td>\n",
       "      <td>NaN</td>\n",
       "      <td>301759940</td>\n",
       "      <td>7</td>\n",
       "      <td>2016-11-16 08:46:32.000000</td>\n",
       "      <td>2016-11-16 07:46:22.000000</td>\n",
       "      <td>30000.0</td>\n",
       "      <td>34400.0</td>\n",
       "      <td>30</td>\n",
       "      <td>2016-12-16 10:38:27.000000</td>\n",
       "      <td>NaN</td>\n",
       "      <td>2016-12-16 00:00:00.000000</td>\n",
       "      <td>2016-12-16 10:23:18.000000</td>\n",
       "      <td>301997095</td>\n",
       "      <td>14</td>\n",
       "      <td>31:11.0</td>\n",
       "      <td>30:01.0</td>\n",
       "      <td>40000</td>\n",
       "      <td>44000.0</td>\n",
       "      <td>30</td>\n",
       "      <td>NaN</td>\n",
       "    </tr>\n",
       "    <tr>\n",
       "      <th>4</th>\n",
       "      <td>8a858fde56eb02280156eb6dafc128ac</td>\n",
       "      <td>1982-03-29 00:00:00.000000</td>\n",
       "      <td>Savings</td>\n",
       "      <td>6.354624</td>\n",
       "      <td>4.949031</td>\n",
       "      <td>First Bank</td>\n",
       "      <td>NaN</td>\n",
       "      <td>Self-Employed</td>\n",
       "      <td>NaN</td>\n",
       "      <td>301754777</td>\n",
       "      <td>6</td>\n",
       "      <td>2016-11-05 08:43:39.000000</td>\n",
       "      <td>2016-11-05 07:43:29.000000</td>\n",
       "      <td>30000.0</td>\n",
       "      <td>32250.0</td>\n",
       "      <td>15</td>\n",
       "      <td>2016-11-16 08:44:19.000000</td>\n",
       "      <td>NaN</td>\n",
       "      <td>2016-11-21 00:00:00.000000</td>\n",
       "      <td>2016-11-16 08:29:10.000000</td>\n",
       "      <td>301997095</td>\n",
       "      <td>14</td>\n",
       "      <td>31:11.0</td>\n",
       "      <td>30:01.0</td>\n",
       "      <td>40000</td>\n",
       "      <td>44000.0</td>\n",
       "      <td>30</td>\n",
       "      <td>NaN</td>\n",
       "    </tr>\n",
       "  </tbody>\n",
       "</table>\n",
       "</div>"
      ],
      "text/plain": [
       "                         customerid                   birthdate  \\\n",
       "0  8a858f305c8dd672015c93b1db645db4  1976-08-28 00:00:00.000000   \n",
       "1  8a858fde56eb02280156eb6dafc128ac  1982-03-29 00:00:00.000000   \n",
       "2  8a858fde56eb02280156eb6dafc128ac  1982-03-29 00:00:00.000000   \n",
       "3  8a858fde56eb02280156eb6dafc128ac  1982-03-29 00:00:00.000000   \n",
       "4  8a858fde56eb02280156eb6dafc128ac  1982-03-29 00:00:00.000000   \n",
       "\n",
       "  bank_account_type  longitude_gps  latitude_gps bank_name_clients  \\\n",
       "0           Savings       5.296628      7.593965     Heritage Bank   \n",
       "1           Savings       6.354624      4.949031        First Bank   \n",
       "2           Savings       6.354624      4.949031        First Bank   \n",
       "3           Savings       6.354624      4.949031        First Bank   \n",
       "4           Savings       6.354624      4.949031        First Bank   \n",
       "\n",
       "  bank_branch_clients employment_status_clients level_of_education_clients  \\\n",
       "0                 NaN                 Permanent                        NaN   \n",
       "1                 NaN             Self-Employed                        NaN   \n",
       "2                 NaN             Self-Employed                        NaN   \n",
       "3                 NaN             Self-Employed                        NaN   \n",
       "4                 NaN             Self-Employed                        NaN   \n",
       "\n",
       "   systemloanid_x  loannumber_x              approveddate_x  \\\n",
       "0       301934783             1  2017-06-11 13:15:09.000000   \n",
       "1       301835093            10  2017-03-09 22:21:00.000000   \n",
       "2       301910151            12  2017-05-16 18:17:15.000000   \n",
       "3       301759940             7  2016-11-16 08:46:32.000000   \n",
       "4       301754777             6  2016-11-05 08:43:39.000000   \n",
       "\n",
       "               creationdate_x  loanamount_x  totaldue_x  termdays_x  \\\n",
       "0  2017-06-11 12:14:02.000000       10000.0     13000.0          30   \n",
       "1  2017-03-09 21:20:53.000000       40000.0     44800.0          30   \n",
       "2  2017-05-16 17:17:08.000000       40000.0     44000.0          30   \n",
       "3  2016-11-16 07:46:22.000000       30000.0     34400.0          30   \n",
       "4  2016-11-05 07:43:29.000000       30000.0     32250.0          15   \n",
       "\n",
       "                   closeddate referredby_x                firstduedate  \\\n",
       "0  2017-07-12 17:23:46.000000          NaN  2017-07-13 00:00:00.000000   \n",
       "1  2017-04-10 07:48:10.000000          NaN  2017-04-10 00:00:00.000000   \n",
       "2  2017-06-15 16:08:33.000000          NaN  2017-06-15 00:00:00.000000   \n",
       "3  2016-12-16 10:38:27.000000          NaN  2016-12-16 00:00:00.000000   \n",
       "4  2016-11-16 08:44:19.000000          NaN  2016-11-21 00:00:00.000000   \n",
       "\n",
       "              firstrepaiddate  systemloanid_y  loannumber_y approveddate_y  \\\n",
       "0  2017-07-12 17:13:36.000000       301992953             2        36:45.0   \n",
       "1  2017-04-10 07:33:01.000000       301997095            14        31:11.0   \n",
       "2  2017-06-15 15:58:24.000000       301997095            14        31:11.0   \n",
       "3  2016-12-16 10:23:18.000000       301997095            14        31:11.0   \n",
       "4  2016-11-16 08:29:10.000000       301997095            14        31:11.0   \n",
       "\n",
       "  creationdate_y  loanamount_y  totaldue_y  termdays_y referredby_y  \n",
       "0        36:38.0         10000     11500.0          15          NaN  \n",
       "1        30:01.0         40000     44000.0          30          NaN  \n",
       "2        30:01.0         40000     44000.0          30          NaN  \n",
       "3        30:01.0         40000     44000.0          30          NaN  \n",
       "4        30:01.0         40000     44000.0          30          NaN  "
      ]
     },
     "execution_count": 6,
     "metadata": {},
     "output_type": "execute_result"
    }
   ],
   "source": [
    "#displaying Test dataset\n",
    "Test.head()"
   ]
  },
  {
   "cell_type": "code",
   "execution_count": 7,
   "id": "55a849d2",
   "metadata": {},
   "outputs": [
    {
     "name": "stdout",
     "output_type": "stream",
     "text": [
      "<class 'pandas.core.frame.DataFrame'>\n",
      "Int64Index: 13693 entries, 0 to 13692\n",
      "Data columns (total 29 columns):\n",
      " #   Column                      Non-Null Count  Dtype  \n",
      "---  ------                      --------------  -----  \n",
      " 0   customerid                  13693 non-null  object \n",
      " 1   birthdate                   13693 non-null  object \n",
      " 2   bank_account_type           13693 non-null  object \n",
      " 3   longitude_gps               13693 non-null  float64\n",
      " 4   latitude_gps                13693 non-null  float64\n",
      " 5   bank_name_clients           13693 non-null  object \n",
      " 6   bank_branch_clients         104 non-null    object \n",
      " 7   employment_status_clients   12330 non-null  object \n",
      " 8   level_of_education_clients  3464 non-null   object \n",
      " 9   systemloanid_x              13693 non-null  int64  \n",
      " 10  loannumber_x                13693 non-null  int64  \n",
      " 11  approveddate_x              13693 non-null  object \n",
      " 12  creationdate_x              13693 non-null  object \n",
      " 13  loanamount_x                13693 non-null  float64\n",
      " 14  totaldue_x                  13693 non-null  float64\n",
      " 15  termdays_x                  13693 non-null  int64  \n",
      " 16  closeddate                  13693 non-null  object \n",
      " 17  referredby_x                802 non-null    object \n",
      " 18  firstduedate                13693 non-null  object \n",
      " 19  firstrepaiddate             13693 non-null  object \n",
      " 20  systemloanid_y              13693 non-null  int64  \n",
      " 21  loannumber_y                13693 non-null  int64  \n",
      " 22  approveddate_y              13693 non-null  object \n",
      " 23  creationdate_y              13693 non-null  object \n",
      " 24  loanamount_y                13693 non-null  float64\n",
      " 25  totaldue_y                  13693 non-null  float64\n",
      " 26  termdays_y                  13693 non-null  int64  \n",
      " 27  referredby_y                802 non-null    object \n",
      " 28  good_bad_flag               13693 non-null  object \n",
      "dtypes: float64(6), int64(6), object(17)\n",
      "memory usage: 3.1+ MB\n"
     ]
    }
   ],
   "source": [
    "#Displaying Dataset Info\n",
    "Train.info()"
   ]
  },
  {
   "cell_type": "code",
   "execution_count": 8,
   "id": "d02d533d",
   "metadata": {},
   "outputs": [],
   "source": [
    "#Drop unwanted columns\n",
    "Train=Train.drop(columns=['customerid','bank_branch_clients','longitude_gps','latitude_gps','creationdate_x','referredby_x','referredby_y','approveddate_y','creationdate_y','closeddate'])\n",
    "Test=Test.drop(columns=['customerid','bank_branch_clients','longitude_gps','latitude_gps','creationdate_x','referredby_x','referredby_y','approveddate_y','creationdate_y','closeddate'])"
   ]
  },
  {
   "cell_type": "code",
   "execution_count": 9,
   "id": "fca34f2a",
   "metadata": {},
   "outputs": [],
   "source": [
    "# Train[['firstduedate','firstrepaiddate','approveddate_x']] = Train[['firstduedate','firstrepaiddate','approveddate_x']].apply(pd.to_datetime, format='%Y-%m-%d %H:%M:%S.%f')\n",
    "# Test[['firstduedate','firstrepaiddate','approveddate_x']] = Test[['firstduedate','firstrepaiddate','approveddate_x']].apply(pd.to_datetime, format='%Y-%m-%d %H:%M:%S.%f')"
   ]
  },
  {
   "cell_type": "code",
   "execution_count": 10,
   "id": "2ae85f25",
   "metadata": {},
   "outputs": [],
   "source": [
    "# converting Birthdate to Age\n",
    "from datetime import datetime, date\n",
    "def age(born):\n",
    "    born = datetime.strptime(born, \"%Y-%m-%d %H:%M:%S.%f\").date()\n",
    "    today = date.today()\n",
    "    return today.year - born.year - ((today.month,\n",
    "                                        today.day) < (born.month,\n",
    "                                                    born.day))\n",
    "\n",
    "Train['Age'] = Train['birthdate'].apply(age)\n",
    "Test['Age'] = Test['birthdate'].apply(age)"
   ]
  },
  {
   "cell_type": "code",
   "execution_count": 11,
   "id": "d79902ab",
   "metadata": {},
   "outputs": [],
   "source": [
    "#Replacing Age column with Birthdate\n",
    "TrainAge=Train['Age'].values\n",
    "Train=Train.drop(columns=['Age','birthdate'])\n",
    "Train.insert(loc = 1,column = 'Age',value = TrainAge)\n",
    "TestAge=Test['Age'].values\n",
    "Test=Test.drop(columns=['Age','birthdate'])\n",
    "Test.insert(loc = 1,column = 'Age',value = TestAge)"
   ]
  },
  {
   "cell_type": "code",
   "execution_count": 12,
   "id": "1fb08744",
   "metadata": {},
   "outputs": [
    {
     "data": {
      "text/plain": [
       "bank_account_type                 0\n",
       "Age                               0\n",
       "bank_name_clients                 0\n",
       "employment_status_clients      1363\n",
       "level_of_education_clients    10229\n",
       "systemloanid_x                    0\n",
       "loannumber_x                      0\n",
       "approveddate_x                    0\n",
       "loanamount_x                      0\n",
       "totaldue_x                        0\n",
       "termdays_x                        0\n",
       "firstduedate                      0\n",
       "firstrepaiddate                   0\n",
       "systemloanid_y                    0\n",
       "loannumber_y                      0\n",
       "loanamount_y                      0\n",
       "totaldue_y                        0\n",
       "termdays_y                        0\n",
       "good_bad_flag                     0\n",
       "dtype: int64"
      ]
     },
     "execution_count": 12,
     "metadata": {},
     "output_type": "execute_result"
    }
   ],
   "source": [
    "# Checking for Null Values\n",
    "Train.isnull().sum()"
   ]
  },
  {
   "cell_type": "code",
   "execution_count": 13,
   "id": "5dba8399",
   "metadata": {},
   "outputs": [],
   "source": [
    "#Filling null values\n",
    "Train['employment_status_clients']=Train['employment_status_clients'].fillna('Unemployed')\n",
    "Test['employment_status_clients']=Test['employment_status_clients'].fillna('Unemployed')"
   ]
  },
  {
   "cell_type": "code",
   "execution_count": 14,
   "id": "8b94a288",
   "metadata": {},
   "outputs": [],
   "source": [
    "#Filling null values\n",
    "Train['level_of_education_clients']=Train['level_of_education_clients'].fillna('NoStudy')\n",
    "Test['level_of_education_clients']=Test['level_of_education_clients'].fillna('NoStudy')"
   ]
  },
  {
   "cell_type": "code",
   "execution_count": 15,
   "id": "12cfb542",
   "metadata": {},
   "outputs": [
    {
     "data": {
      "text/plain": [
       "bank_account_type             0\n",
       "Age                           0\n",
       "bank_name_clients             0\n",
       "employment_status_clients     0\n",
       "level_of_education_clients    0\n",
       "systemloanid_x                0\n",
       "loannumber_x                  0\n",
       "approveddate_x                0\n",
       "loanamount_x                  0\n",
       "totaldue_x                    0\n",
       "termdays_x                    0\n",
       "firstduedate                  0\n",
       "firstrepaiddate               0\n",
       "systemloanid_y                0\n",
       "loannumber_y                  0\n",
       "loanamount_y                  0\n",
       "totaldue_y                    0\n",
       "termdays_y                    0\n",
       "good_bad_flag                 0\n",
       "dtype: int64"
      ]
     },
     "execution_count": 15,
     "metadata": {},
     "output_type": "execute_result"
    }
   ],
   "source": [
    "# Checking for Null Values\n",
    "Train.isnull().sum()"
   ]
  },
  {
   "cell_type": "code",
   "execution_count": 16,
   "id": "93174c73",
   "metadata": {},
   "outputs": [
    {
     "name": "stdout",
     "output_type": "stream",
     "text": [
      "No of Duplicates in Train datset: 20\n",
      "No of Duplicates in Test datset: 0\n"
     ]
    }
   ],
   "source": [
    "#count number of duplicate rows\n",
    "print(\"No of Duplicates in Train datset:\",len(Train)-len(Train.drop_duplicates()))\n",
    "print(\"No of Duplicates in Test datset:\",len(Test)-len(Test.drop_duplicates()))"
   ]
  },
  {
   "cell_type": "code",
   "execution_count": 17,
   "id": "33d7439d",
   "metadata": {},
   "outputs": [],
   "source": [
    "# Drop Duplicates\n",
    "Train=Train.drop_duplicates()"
   ]
  },
  {
   "cell_type": "code",
   "execution_count": 18,
   "id": "2bb39656",
   "metadata": {},
   "outputs": [],
   "source": [
    "#pip install openpyxl"
   ]
  },
  {
   "cell_type": "code",
   "execution_count": 19,
   "id": "762d5970",
   "metadata": {},
   "outputs": [],
   "source": [
    "# Export data set to local system for data Analysis in Tableau\n",
    "#Train.to_excel(r'C:\\Users\\rajvi\\OneDrive\\Desktop\\Capstone Project\\Data Sets\\FinalTrain.xlsx', index=False)"
   ]
  },
  {
   "cell_type": "code",
   "execution_count": 20,
   "id": "98dc5761",
   "metadata": {},
   "outputs": [],
   "source": [
    "#Converting Categorical to Numerical Values\n",
    "Train['good_bad_flag'].replace(['Good', 'Bad'],[1,0], inplace=True)"
   ]
  },
  {
   "cell_type": "code",
   "execution_count": 21,
   "id": "9682673c",
   "metadata": {},
   "outputs": [],
   "source": [
    "#Converting Categorical to Numerical Values\n",
    "Train['bank_account_type'].replace(['Savings', 'Current','Other'],[1,2,3], inplace=True)\n",
    "Test['bank_account_type'].replace(['Savings', 'Current','Other'],[1,2,3], inplace=True)"
   ]
  },
  {
   "cell_type": "code",
   "execution_count": 22,
   "id": "1de0c705",
   "metadata": {},
   "outputs": [],
   "source": [
    "#Converting Categorical to Numerical Values\n",
    "Train['employment_status_clients'].replace(['Permanent', 'Self-Employed','Unemployed','Student','Retired','Contract'],[1,2,3,4,5,6], inplace=True)\n",
    "Test['employment_status_clients'].replace(['Permanent', 'Self-Employed','Unemployed','Student','Retired','Contract'],[1,2,3,4,5,6], inplace=True)"
   ]
  },
  {
   "cell_type": "code",
   "execution_count": 23,
   "id": "2c1bbba2",
   "metadata": {},
   "outputs": [],
   "source": [
    "#Converting Categorical to Numerical Values\n",
    "Train['level_of_education_clients'].replace(['NoStudy', 'Graduate','Secondary','Post-Graduate','Primary'],[0,3,2,4,1], inplace=True)\n",
    "Test['level_of_education_clients'].replace(['NoStudy', 'Graduate','Secondary','Post-Graduate','Primary'],[0,3,2,4,1], inplace=True)"
   ]
  },
  {
   "cell_type": "code",
   "execution_count": 24,
   "id": "663b78ca",
   "metadata": {},
   "outputs": [],
   "source": [
    "#import label encoder\n",
    "from sklearn import preprocessing \n",
    "#make an instance of Label Encoder\n",
    "label_encoder = preprocessing.LabelEncoder()\n",
    "#Converting Categorical to Numerical Values using Label Encoder\n",
    "Train[\"bank_name_clients\"] = label_encoder.fit_transform(Train[\"bank_name_clients\"])\n",
    "Test[\"bank_name_clients\"] = label_encoder.fit_transform(Test[\"bank_name_clients\"])"
   ]
  },
  {
   "cell_type": "code",
   "execution_count": 25,
   "id": "f1852db8",
   "metadata": {},
   "outputs": [
    {
     "data": {
      "image/png": "[encoded data removed]",
      "text/plain": [
       "<Figure size 1296x720 with 2 Axes>"
      ]
     },
     "metadata": {
      "needs_background": "light"
     },
     "output_type": "display_data"
    }
   ],
   "source": [
    "# Plot Heat Map using seaborn\n",
    "plt.figure(figsize=(18,10))\n",
    "annot=True\n",
    "hm=sns.heatmap(Train.corr(),annot=annot)"
   ]
  },
  {
   "cell_type": "markdown",
   "id": "cf4eada0",
   "metadata": {},
   "source": [
    "## Machine learning Models"
   ]
  },
  {
   "cell_type": "markdown",
   "id": "3d1785e0",
   "metadata": {},
   "source": [
    "### Random Forest Classifier"
   ]
  },
  {
   "cell_type": "code",
   "execution_count": 26,
   "id": "d14a163d",
   "metadata": {},
   "outputs": [],
   "source": [
    "from sklearn.model_selection import train_test_split\n",
    "from sklearn.metrics import mean_absolute_error\n",
    "from sklearn.metrics import accuracy_score\n",
    "from sklearn.metrics import roc_auc_score"
   ]
  },
  {
   "cell_type": "code",
   "execution_count": 27,
   "id": "dc99d47f",
   "metadata": {},
   "outputs": [],
   "source": [
    "x=Train.iloc[:,:-1]\n",
    "y=Train.good_bad_flag"
   ]
  },
  {
   "cell_type": "code",
   "execution_count": 28,
   "id": "7690bd77",
   "metadata": {},
   "outputs": [],
   "source": [
    "# Splitting Train dataset into into 80:20 ratio\n",
    "x_train,x_test,y_train,y_test=train_test_split(x,y,test_size=0.2)"
   ]
  },
  {
   "cell_type": "code",
   "execution_count": 29,
   "id": "865b4056",
   "metadata": {},
   "outputs": [],
   "source": [
    "# List of  Features for Training ML Models\n",
    "features=[\"Age\",\"bank_account_type\",\"bank_name_clients\",\"employment_status_clients\",\"level_of_education_clients\",\"systemloanid_x\",\"loannumber_x\",\"loanamount_x\",\"totaldue_x\",\"termdays_x\",\"systemloanid_y\",\"loannumber_y\",\"loanamount_y\",\"totaldue_y\",\"termdays_y\"]"
   ]
  },
  {
   "cell_type": "code",
   "execution_count": 30,
   "id": "9d720e14",
   "metadata": {},
   "outputs": [],
   "source": [
    "# Target Feature in ML Model\n",
    "target=[\"good_bad_flag\"]"
   ]
  },
  {
   "cell_type": "code",
   "execution_count": 66,
   "id": "8d8b2fbf",
   "metadata": {},
   "outputs": [],
   "source": [
    "#Created lists to save scores\n",
    "Accuracy_score=[]\n",
    "AUC_score=[]\n",
    "MAE_Score=[]\n",
    "name=[]"
   ]
  },
  {
   "cell_type": "code",
   "execution_count": 52,
   "id": "e369006a",
   "metadata": {},
   "outputs": [],
   "source": [
    "RFparameters={'bootstrap': [True], \n",
    "            'max_depth': [5, 10, None], \n",
    "            'max_features': ['auto', 'sqrt', 'log2'],\n",
    "            'n_estimators': [200,700]}"
   ]
  },
  {
   "cell_type": "code",
   "execution_count": 54,
   "id": "4c5ddb40",
   "metadata": {},
   "outputs": [
    {
     "name": "stdout",
     "output_type": "stream",
     "text": [
      "Tuned Hyperparameters : {'bootstrap': True, 'max_depth': None, 'max_features': 'auto', 'n_estimators': 700}\n"
     ]
    }
   ],
   "source": [
    "grid= GridSearchCV(rf,                        # model\n",
    "                   param_grid = RFparameters, # hyperparameters\n",
    "                   scoring='roc_auc',        # metric for scoring\n",
    "                   cv=10)                     # number of folds\n",
    "grid.fit(x_train[features],y_train)\n",
    "print(\"Tuned Hyperparameters :\", grid.best_params_)"
   ]
  },
  {
   "cell_type": "code",
   "execution_count": 67,
   "id": "2d9f2a76",
   "metadata": {},
   "outputs": [],
   "source": [
    "#fit and predict the data\n",
    "rf= RandomForestClassifier(bootstrap=True, max_depth=None,max_features='auto',n_estimators=700)\n",
    "rf.fit(x_train[features],y_train)\n",
    "y_pred=rf.predict(x_test[features])"
   ]
  },
  {
   "cell_type": "code",
   "execution_count": 68,
   "id": "1e216bbf",
   "metadata": {},
   "outputs": [
    {
     "name": "stdout",
     "output_type": "stream",
     "text": [
      "Accuracy : 93.38\n",
      "Mean absolute error: 6.62\n",
      "AUC_Score : 81.35\n"
     ]
    }
   ],
   "source": [
    "MAE_Rf = round(mean_absolute_error(y_pred,y_test)*100,2)\n",
    "AUC_score_Rf = round(roc_auc_score(y_test,y_pred)*100,2)\n",
    "Accuracy_Rf=round(accuracy_score(y_test,y_pred)*100,2)\n",
    "print(\"Accuracy :\",Accuracy_Rf)\n",
    "print(\"Mean absolute error:\",MAE_Rf)\n",
    "print(\"AUC_Score :\", AUC_score_Rf)\n",
    "Accuracy_score.append(Accuracy_Rf)\n",
    "AUC_score.append(AUC_score_Rf)\n",
    "MAE_Score.append(MAE_Rf)\n",
    "name.append(\"Random Forest\")"
   ]
  },
  {
   "cell_type": "markdown",
   "id": "b8885f92",
   "metadata": {},
   "source": [
    "### Logistic Regression"
   ]
  },
  {
   "cell_type": "code",
   "execution_count": 35,
   "id": "d9cf9057",
   "metadata": {},
   "outputs": [],
   "source": [
    "from sklearn.linear_model import LogisticRegression\n",
    "lr=LogisticRegression(fit_intercept=True,max_iter=100,n_jobs=1,solver='liblinear')"
   ]
  },
  {
   "cell_type": "code",
   "execution_count": 36,
   "id": "10b28745",
   "metadata": {},
   "outputs": [],
   "source": [
    "parameters = {'penalty' : ['l1','l2'], 'C': np.logspace(-3,3,7),'solver': ['newton-cg', 'lbfgs', 'liblinear']}"
   ]
  },
  {
   "cell_type": "code",
   "execution_count": 38,
   "id": "9234856c",
   "metadata": {},
   "outputs": [
    {
     "name": "stdout",
     "output_type": "stream",
     "text": [
      "Tuned Hyperparameters : {'C': 100.0, 'penalty': 'l1', 'solver': 'liblinear'}\n"
     ]
    }
   ],
   "source": [
    "from sklearn.metrics import roc_auc_score\n",
    "from sklearn.model_selection import GridSearchCV\n",
    "grid = GridSearchCV(lr,                    # model\n",
    "                   param_grid = parameters,   # hyperparameters\n",
    "                   scoring='roc_auc',        # metric for scoring\n",
    "                   cv=10)                     # number of folds\n",
    "grid.fit(x_train[features],y_train)\n",
    "print(\"Tuned Hyperparameters :\", grid.best_params_)"
   ]
  },
  {
   "cell_type": "code",
   "execution_count": 69,
   "id": "b644b11f",
   "metadata": {},
   "outputs": [],
   "source": [
    "lr = LogisticRegression(C = 100.0, penalty = 'l1',solver = 'liblinear')\n",
    "lr.fit(x_train[features],y_train)\n",
    "y_pred=lr.predict(x_test[features])"
   ]
  },
  {
   "cell_type": "code",
   "execution_count": 70,
   "id": "b7487373",
   "metadata": {},
   "outputs": [
    {
     "name": "stdout",
     "output_type": "stream",
     "text": [
      "Accuracy : 82.96\n",
      "Mean absolute error: 17.04\n",
      "AUC_Score : 50.0\n"
     ]
    }
   ],
   "source": [
    "#Performance Display \n",
    "MAE_Lr = round(mean_absolute_error(y_pred,y_test)*100,2)\n",
    "AUC_score_Lr = round(roc_auc_score(y_test,y_pred)*100,2)\n",
    "Accuracy_Lr=round(accuracy_score(y_test,y_pred)*100,2)\n",
    "print(\"Accuracy :\",Accuracy_Lr)\n",
    "print(\"Mean absolute error:\",MAE_Lr)\n",
    "print(\"AUC_Score :\", AUC_score_Lr)\n",
    "Accuracy_score.append(Accuracy_Lr)\n",
    "AUC_score.append(AUC_score_Lr)\n",
    "MAE_Score.append(MAE_Lr)\n",
    "name.append(\"Logistic Regression\")"
   ]
  },
  {
   "cell_type": "markdown",
   "id": "04703df6",
   "metadata": {},
   "source": [
    "### XGBOOST"
   ]
  },
  {
   "cell_type": "code",
   "execution_count": 41,
   "id": "0e8ce22e",
   "metadata": {},
   "outputs": [],
   "source": [
    "from xgboost import XGBClassifier\n",
    "XGB=XGBClassifier()\n",
    "from sklearn.model_selection import GridSearchCV\n",
    "XGBparameters={\"colsample_bytree\": [ 0.3, 0.5 , 0.8 ],\n",
    "            \"reg_alpha\": [0, 0.5, 1, 5],\n",
    "            \"reg_lambda\": [0, 0.5, 1, 5]\n",
    "           }"
   ]
  },
  {
   "cell_type": "code",
   "execution_count": 42,
   "id": "a676e827",
   "metadata": {},
   "outputs": [
    {
     "name": "stdout",
     "output_type": "stream",
     "text": [
      "[19:48:00] WARNING: C:/Users/Administrator/workspace/xgboost-win64_release_1.5.1/src/learner.cc:1115: Starting in XGBoost 1.3.0, the default evaluation metric used with the objective 'binary:logistic' was changed from 'error' to 'logloss'. Explicitly set eval_metric if you'd like to restore the old behavior.\n",
      "Tuned Hyperparameters : {'colsample_bytree': 0.8, 'reg_alpha': 0.5, 'reg_lambda': 0}\n"
     ]
    }
   ],
   "source": [
    "grid= GridSearchCV(XGB,                        \n",
    "                   param_grid = XGBparameters, \n",
    "                   scoring='roc_auc',\n",
    "                   refit='recall', \n",
    "                   n_jobs=-1,\n",
    "                   cv=10)                     \n",
    "grid.fit(x_train[features],y_train)\n",
    "print(\"Tuned Hyperparameters :\", grid.best_params_)"
   ]
  },
  {
   "cell_type": "code",
   "execution_count": 71,
   "id": "9eac3a85",
   "metadata": {},
   "outputs": [],
   "source": [
    "XGB= XGBClassifier(colsample_bytree=0.8, reg_alpha=1,reg_lambda=0.5,eval_metric='logloss')\n",
    "XGB.fit(x_train[features],y_train)\n",
    "y_pred=XGB.predict(x_test[features])"
   ]
  },
  {
   "cell_type": "code",
   "execution_count": 72,
   "id": "37014b00",
   "metadata": {},
   "outputs": [
    {
     "name": "stdout",
     "output_type": "stream",
     "text": [
      "Accuracy : 93.71\n",
      "Mean absolute error: 6.29\n",
      "AUC_Score : 84.53\n"
     ]
    }
   ],
   "source": [
    "#Performance Display \n",
    "MAE_XG = round(mean_absolute_error(y_pred,y_test)*100,2)\n",
    "AUC_score_XG = round(roc_auc_score(y_test,y_pred)*100,2)\n",
    "Accuracy_XG=round(accuracy_score(y_test,y_pred)*100,2)\n",
    "print(\"Accuracy :\",Accuracy_XG)\n",
    "print(\"Mean absolute error:\",MAE_XG)\n",
    "print(\"AUC_Score :\", AUC_score_XG)\n",
    "Accuracy_score.append(Accuracy_XG)\n",
    "AUC_score.append(AUC_score_XG)\n",
    "MAE_Score.append(MAE_XG)\n",
    "name.append(\"XG Boost\")"
   ]
  },
  {
   "cell_type": "markdown",
   "id": "4c71f008",
   "metadata": {},
   "source": [
    "### Decision Tree"
   ]
  },
  {
   "cell_type": "code",
   "execution_count": 45,
   "id": "a95afc16",
   "metadata": {},
   "outputs": [],
   "source": [
    "from sklearn.tree import DecisionTreeClassifier\n",
    "Desc_Tree=DecisionTreeClassifier()"
   ]
  },
  {
   "cell_type": "code",
   "execution_count": 60,
   "id": "68559370",
   "metadata": {},
   "outputs": [],
   "source": [
    "DTparameters={'criterion' : ['gini', 'entropy'],\n",
    "            'max_features': ['log2', 'sqrt','auto'],\n",
    "            'max_depth': [1,2, 3, 5, 10,None],\n",
    "            'random_state' : [0,1,2,3,4,5]\n",
    "           }"
   ]
  },
  {
   "cell_type": "code",
   "execution_count": 62,
   "id": "f5420103",
   "metadata": {},
   "outputs": [
    {
     "name": "stdout",
     "output_type": "stream",
     "text": [
      "Tuned Hyperparameters : {'criterion': 'entropy', 'max_depth': None, 'max_features': 'log2', 'random_state': 3}\n"
     ]
    }
   ],
   "source": [
    "grid= GridSearchCV(Desc_Tree,                 # model\n",
    "                   param_grid = DTparameters,   # hyperparameters\n",
    "                   scoring='roc_auc',        # metric for scoring\n",
    "                   cv=10)                     # number of folds\n",
    "grid.fit(x_train[features],y_train)\n",
    "print(\"Tuned Hyperparameters :\", grid.best_params_)"
   ]
  },
  {
   "cell_type": "code",
   "execution_count": 73,
   "id": "6a56bc89",
   "metadata": {},
   "outputs": [],
   "source": [
    "Desc_Tree = DecisionTreeClassifier(criterion='entropy',max_depth=None,max_features='log2',random_state=3)\n",
    "#fit and predict the data\n",
    "Desc_Tree.fit(x_train[features],y_train)\n",
    "y_pred = Desc_Tree.predict(x_test[features])"
   ]
  },
  {
   "cell_type": "code",
   "execution_count": 74,
   "id": "4ddc37c2",
   "metadata": {},
   "outputs": [
    {
     "name": "stdout",
     "output_type": "stream",
     "text": [
      "Accuracy : 89.84\n",
      "Mean absolute error: 10.16\n",
      "AUC_Score : 83.22\n"
     ]
    }
   ],
   "source": [
    "#Performance Display \n",
    "MAE_DT = round(mean_absolute_error(y_pred,y_test)*100,2)\n",
    "AUC_score_DT = round(roc_auc_score(y_test,y_pred)*100,2)\n",
    "Accuracy_DT=round(accuracy_score(y_test,y_pred)*100,2)\n",
    "print(\"Accuracy :\",Accuracy_DT)\n",
    "print(\"Mean absolute error:\",MAE_DT)\n",
    "print(\"AUC_Score :\", AUC_score_DT)\n",
    "Accuracy_score.append(Accuracy_DT)\n",
    "AUC_score.append(AUC_score_DT)\n",
    "MAE_Score.append(MAE_DT)\n",
    "name.append(\"Decision Tree\")"
   ]
  },
  {
   "cell_type": "code",
   "execution_count": 75,
   "id": "de53cef0",
   "metadata": {},
   "outputs": [
    {
     "data": {
      "text/html": [
       "<div>\n",
       "<style scoped>\n",
       "    .dataframe tbody tr th:only-of-type {\n",
       "        vertical-align: middle;\n",
       "    }\n",
       "\n",
       "    .dataframe tbody tr th {\n",
       "        vertical-align: top;\n",
       "    }\n",
       "\n",
       "    .dataframe thead th {\n",
       "        text-align: right;\n",
       "    }\n",
       "</style>\n",
       "<table border=\"1\" class=\"dataframe\">\n",
       "  <thead>\n",
       "    <tr style=\"text-align: right;\">\n",
       "      <th></th>\n",
       "      <th>name</th>\n",
       "      <th>Accuracy_score</th>\n",
       "      <th>AUC_score</th>\n",
       "      <th>MAE_Score</th>\n",
       "    </tr>\n",
       "  </thead>\n",
       "  <tbody>\n",
       "    <tr>\n",
       "      <th>0</th>\n",
       "      <td>Random Forest</td>\n",
       "      <td>93.38</td>\n",
       "      <td>81.35</td>\n",
       "      <td>6.62</td>\n",
       "    </tr>\n",
       "    <tr>\n",
       "      <th>1</th>\n",
       "      <td>Logistic Regression</td>\n",
       "      <td>82.96</td>\n",
       "      <td>50.00</td>\n",
       "      <td>17.04</td>\n",
       "    </tr>\n",
       "    <tr>\n",
       "      <th>2</th>\n",
       "      <td>XG Boost</td>\n",
       "      <td>93.71</td>\n",
       "      <td>84.53</td>\n",
       "      <td>6.29</td>\n",
       "    </tr>\n",
       "    <tr>\n",
       "      <th>3</th>\n",
       "      <td>Decision Tree</td>\n",
       "      <td>89.84</td>\n",
       "      <td>83.22</td>\n",
       "      <td>10.16</td>\n",
       "    </tr>\n",
       "  </tbody>\n",
       "</table>\n",
       "</div>"
      ],
      "text/plain": [
       "                  name  Accuracy_score  AUC_score  MAE_Score\n",
       "0        Random Forest           93.38      81.35       6.62\n",
       "1  Logistic Regression           82.96      50.00      17.04\n",
       "2             XG Boost           93.71      84.53       6.29\n",
       "3        Decision Tree           89.84      83.22      10.16"
      ]
     },
     "execution_count": 75,
     "metadata": {},
     "output_type": "execute_result"
    }
   ],
   "source": [
    "#Comparision of Machine Learning Models\n",
    "scores = pd.DataFrame({'name': name,'Accuracy_score': Accuracy_score,'AUC_score': AUC_score,'MAE_Score':MAE_Score})\n",
    "scores"
   ]
  },
  {
   "cell_type": "code",
   "execution_count": 76,
   "id": "3b03bc1d",
   "metadata": {},
   "outputs": [
    {
     "data": {
      "image/png": "[encoded data removed]",
      "text/plain": [
       "<Figure size 504x288 with 1 Axes>"
      ]
     },
     "metadata": {
      "needs_background": "light"
     },
     "output_type": "display_data"
    }
   ],
   "source": [
    "fig = plt.figure(figsize = (7, 4))\n",
    " \n",
    "# creating the bar plot\n",
    "plt.bar(scores.name, scores.Accuracy_score, color='maroon',width=0.2)\n",
    " \n",
    "plt.xlabel(\"Machine Learning - Models\",fontweight='bold')\n",
    "plt.ylabel(\"Accuracy\",fontweight='bold')\n",
    "plt.title(\"Accuracy Comparision of ML Models\",fontsize=18, fontweight='bold')\n",
    "for i, v in enumerate(scores.Accuracy_score):\n",
    "    plt.text(i, v + 0.01 * max(scores.Accuracy_score), str(round(v,2)), ha='center', fontsize=10)\n",
    "plt.show()"
   ]
  },
  {
   "cell_type": "code",
   "execution_count": 78,
   "id": "324f1408",
   "metadata": {},
   "outputs": [
    {
     "data": {
      "image/png": "[encoded data removed]",
      "text/plain": [
       "<Figure size 432x288 with 1 Axes>"
      ]
     },
     "metadata": {
      "needs_background": "light"
     },
     "output_type": "display_data"
    }
   ],
   "source": [
    "from sklearn.metrics import roc_curve\n",
    "fpr1,tpr1,thresh1= roc_curve(y_test,rf.predict_proba(x_test[features])[:,1],pos_label=1)\n",
    "fpr2,tpr2,thresh2= roc_curve(y_test,lr.predict_proba(x_test[features])[:,1],pos_label=1)\n",
    "fpr3,tpr3,thresh3= roc_curve(y_test,XGB.predict_proba(x_test[features])[:,1],pos_label=1)\n",
    "fpr4,tpr4,thresh4= roc_curve(y_test,Desc_Tree.predict_proba(x_test[features])[:,1],pos_label=1)\n",
    "#Plot ROC Curve\n",
    "plt.plot(fpr1, tpr1, linestyle='--',color='green', label='Random Forest')\n",
    "plt.plot(fpr2, tpr2, linestyle='--',color='orange', label='Logistic regression')\n",
    "plt.plot(fpr3, tpr3, linestyle='--',color='red', label='XG Boost')\n",
    "plt.plot(fpr4, tpr4, linestyle='--',color='Black', label='Decision Tree')\n",
    "plt.plot([0, 1], [0, 1], \"k--\",color='blue', label=\"chance level (AUC = 0.5)\")\n",
    "plt.title('ROC curve',fontsize=18,fontweight='bold')\n",
    "plt.xlabel('False Positive Rate',fontweight='bold')\n",
    "plt.ylabel('True Positive rate',fontweight='bold')\n",
    "plt.legend(loc='best')\n",
    "plt.show()"
   ]
  }
 ],
 "metadata": {
  "celltoolbar": "Raw Cell Format",
  "kernelspec": {
   "display_name": "Python 3 (ipykernel)",
   "language": "python",
   "name": "python3"
  },
  "language_info": {
   "codemirror_mode": {
    "name": "ipython",
    "version": 3
   },
   "file_extension": ".py",
   "mimetype": "text/x-python",
   "name": "python",
   "nbconvert_exporter": "python",
   "pygments_lexer": "ipython3",
   "version": "3.9.7"
  }
 },
 "nbformat": 4,
 "nbformat_minor": 5
}
